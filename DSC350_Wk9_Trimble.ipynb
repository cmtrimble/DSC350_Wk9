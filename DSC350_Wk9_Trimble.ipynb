{
 "cells": [
  {
   "metadata": {},
   "cell_type": "raw",
   "source": [
    "Title: DSC350 Week 6 Exercises \n",
    "Author: Stefanie Molin  \n",
    "Date: 26 October 2024  \n",
    "Modified By: Caleb Trimble  \n",
    "Description: This program executes various functions. It creates randomly generated arrays, creates various types of files, and provides the results. It also uses BeautifulSoup to scrape an HTML file for specific information. \n",
    "Codes in this program have been adapted from Hands-On Data Analysis with Pandas - Second Edition (Molin S., 2021)"
   ],
   "id": "8f904e5fe1518a4f"
  },
  {
   "cell_type": "code",
   "id": "initial_id",
   "metadata": {
    "collapsed": true,
    "ExecuteTime": {
     "end_time": "2024-10-26T21:07:49.084443Z",
     "start_time": "2024-10-26T21:07:49.073741Z"
    }
   },
   "source": [
    "import numpy as np\n",
    "import pandas as pd\n",
    "import pickle\n",
    "import os\n",
    "\n",
    "# Seeds the random generator\n",
    "np.random.seed(0)\n",
    "# Generates a 3x4 array\n",
    "array = np.random.rand(3, 4)\n",
    "# Saves the array as a CSV file\n",
    "np.savetxt('np.csv', array, delimiter=',')\n",
    "# Reads the CSV file into a DataFrame\n",
    "df = pd.read_csv('np.csv', header=None)\n",
    "print(df)\n",
    "# Saves the DataFrame to a new CSV file\n",
    "df.to_csv('df_output.csv', index=False)\n"
   ],
   "outputs": [
    {
     "name": "stdout",
     "output_type": "stream",
     "text": [
      "          0         1         2         3\n",
      "0  0.548814  0.715189  0.602763  0.544883\n",
      "1  0.423655  0.645894  0.437587  0.891773\n",
      "2  0.963663  0.383442  0.791725  0.528895\n"
     ]
    }
   ],
   "execution_count": 34
  },
  {
   "metadata": {
    "ExecuteTime": {
     "end_time": "2024-10-26T21:07:49.113879Z",
     "start_time": "2024-10-26T21:07:49.103394Z"
    }
   },
   "cell_type": "code",
   "source": [
    "# Seeds the random generator\n",
    "np.random.seed(0)\n",
    "# Generates a 365x4 array\n",
    "array = np.random.rand(365, 4)\n",
    "# Saves the array as a CSV file\n",
    "np.savetxt('np1.csv', array, delimiter=',')\n",
    "# Reads the CSV file into a DataFrame\n",
    "df = pd.read_csv('np.csv', header=None)\n",
    "df.to_pickle('df_pickle.pkl')\n",
    "# Reads the pickle file and prints the results\n",
    "df_loaded = pd.read_pickle('df_pickle.pkl')\n",
    "print(df_loaded)\n",
    "# Retrieves the size of the file and prints the results.\n",
    "pickle_size = os.path.getsize('df_pickle.pkl')\n",
    "print(f'Pickle file size: {pickle_size} bytes')\n"
   ],
   "id": "f08aeb705e92aa24",
   "outputs": [
    {
     "name": "stdout",
     "output_type": "stream",
     "text": [
      "          0         1         2         3\n",
      "0  0.548814  0.715189  0.602763  0.544883\n",
      "1  0.423655  0.645894  0.437587  0.891773\n",
      "2  0.963663  0.383442  0.791725  0.528895\n",
      "Pickle file size: 749 bytes\n"
     ]
    }
   ],
   "execution_count": 35
  },
  {
   "metadata": {
    "ExecuteTime": {
     "end_time": "2024-10-26T21:07:49.140847Z",
     "start_time": "2024-10-26T21:07:49.114879Z"
    }
   },
   "cell_type": "code",
   "source": [
    "# Calls on the previously created DataFrame, creates an Excel file from the data, and prints the results.\n",
    "df.to_excel('array.xlsx', index=False, header=False)\n",
    "df_from_excel = pd.read_excel('array.xlsx', header=None)\n",
    "print(df_from_excel)\n"
   ],
   "id": "c3d03f5cf9907991",
   "outputs": [
    {
     "name": "stdout",
     "output_type": "stream",
     "text": [
      "          0         1         2         3\n",
      "0  0.548814  0.715189  0.602763  0.544883\n",
      "1  0.423655  0.645894  0.437587  0.891773\n",
      "2  0.963663  0.383442  0.791725  0.528895\n"
     ]
    }
   ],
   "execution_count": 36
  },
  {
   "metadata": {
    "ExecuteTime": {
     "end_time": "2024-10-26T21:07:49.144904Z",
     "start_time": "2024-10-26T21:07:49.140847Z"
    }
   },
   "cell_type": "code",
   "source": [
    "import json\n",
    "\n",
    "# Creates a JSON string using the provided values.\n",
    "json_str = '{\"country\":\"Netherlands\",\"dma_code\":\"0\",\"timezone\":\"Europe/Amsterdam\",\"area_code\":\"0\",\"ip\":\"46.19.37.108\",\"asn\":\"AS196752\",\"continent_code\":\"EU\",\"isp\":\"Tilaa V.O.F.\",\"longitude\":5.75,\"latitude\":52.5,\"country_code\":\"NL\",\"country_code3\":\"NLD\"}'\n",
    "# Parses the JSON string\n",
    "data = json.loads(json_str)\n",
    "# Prints the value for the \"Country\" column\n",
    "print(f'Original Country: {data[\"country\"]}')\n",
    "# Changes the name of the country from Netherlands to Fantasia.\n",
    "data[\"country\"] = \"Fantasia\"  # Your chosen value\n",
    "# Prints the updated result\n",
    "print(f'Updated Country: {data[\"country\"]}')\n"
   ],
   "id": "40a47e1e9619315d",
   "outputs": [
    {
     "name": "stdout",
     "output_type": "stream",
     "text": [
      "Original Country: Netherlands\n",
      "Updated Country: Fantasia\n"
     ]
    }
   ],
   "execution_count": 37
  },
  {
   "metadata": {},
   "cell_type": "markdown",
   "source": [
    "Using the Pandas read_json() function, we can either create a pandas Series or DataFrame – taking the JSON string from #4, create a series\n",
    "Change the country value again to your choice and convert the Pandas Series to a JSON string"
   ],
   "id": "86b1dd5cbfa6cf9d"
  },
  {
   "metadata": {
    "ExecuteTime": {
     "end_time": "2024-10-26T21:07:49.152348Z",
     "start_time": "2024-10-26T21:07:49.145903Z"
    }
   },
   "cell_type": "code",
   "source": [
    "import pandas as pd\n",
    "\n",
    "# JSON string\n",
    "json_str = '{\"country\":\"Netherlands\",\"dma_code\":\"0\",\"timezone\":\"Europe/Amsterdam\",\"area_code\":\"0\",\"ip\":\"46.19.37.108\",\"asn\":\"AS196752\",\"continent_code\":\"EU\",\"isp\":\"Tilaa V.O.F.\",\"longitude\":5.75,\"latitude\":52.5,\"country_code\":\"NL\",\"country_code3\":\"NLD\"}'\n",
    "# Read the JSON string into a DataFrame\n",
    "df = pd.read_json(json_str, typ='series')\n",
    "# Change the value for the \"country\"\n",
    "df[\"country\"] = \"Fantasia\"  # Your chosen value\n",
    "# Convert the Series back to JSON\n",
    "json_result = df.to_json()\n",
    "# Print the updated Series and JSON result\n",
    "print(df)\n",
    "print(json_result)\n"
   ],
   "id": "6ec4af46d62c0aa4",
   "outputs": [
    {
     "name": "stdout",
     "output_type": "stream",
     "text": [
      "country                   Fantasia\n",
      "dma_code                         0\n",
      "timezone          Europe/Amsterdam\n",
      "area_code                        0\n",
      "ip                    46.19.37.108\n",
      "asn                       AS196752\n",
      "continent_code                  EU\n",
      "isp                   Tilaa V.O.F.\n",
      "longitude                     5.75\n",
      "latitude                      52.5\n",
      "country_code                    NL\n",
      "country_code3                  NLD\n",
      "dtype: object\n",
      "{\"country\":\"Fantasia\",\"dma_code\":\"0\",\"timezone\":\"Europe\\/Amsterdam\",\"area_code\":\"0\",\"ip\":\"46.19.37.108\",\"asn\":\"AS196752\",\"continent_code\":\"EU\",\"isp\":\"Tilaa V.O.F.\",\"longitude\":5.75,\"latitude\":52.5,\"country_code\":\"NL\",\"country_code3\":\"NLD\"}\n"
     ]
    }
   ],
   "execution_count": 38
  },
  {
   "metadata": {},
   "cell_type": "markdown",
   "source": "The below code is a direct copy of code snippets from Python Data Analysis - Second Edition (Fandango A., 2017)",
   "id": "c2fe9f5fb6fc1a95"
  },
  {
   "metadata": {
    "ExecuteTime": {
     "end_time": "2024-10-26T21:07:49.164137Z",
     "start_time": "2024-10-26T21:07:49.153348Z"
    }
   },
   "cell_type": "code",
   "source": [
    "from bs4 import BeautifulSoup\n",
    "import re\n",
    "\n",
    "soup = BeautifulSoup(open('loremIpsum.html'))\n",
    "print(\"First div\\n\", soup.div)\n",
    "print(\"First div clss\", soup.div['class'])\n",
    "print(\"First dfn text\", soup.dl.dt.dfn.text)\n",
    "\n",
    "for link in soup.findAll('a'):\n",
    "    print(\"Link text\", link.string, \"URL\", link.get('href'))\n",
    "for i, div in enumerate(soup('div')):\n",
    "    print(i, div.contents)\n",
    "official_div = soup.find_all(\"div\", id=\"official\")\n",
    "print(\"Official Version\", official_div[0].contents[2].strip())\n",
    "print(\"# elements with class\", len(soup.find_all(class_=True)))\n",
    "tile_class = soup.find_all(\"div\", class_=\"tile\")\n",
    "print(\"# Tile classes\", len(tile_class))\n",
    "print(\"# Divs with class containing tile\", len(soup.find_all(\"div\", class_=re.compile(\"tile\"))))\n",
    "print(\"Using CSS selector\\n\", soup.select('div.notile'))\n",
    "print(\"Selecting ordered list list items\\n\", soup.select(\"ol > li\") [:2])\n",
    "print(\"Second list item in ordered list\", soup.select(\"ol>li:nth-of-type(2)\"))\n",
    "print(\"Searching for text string\", soup.find_all(text=re.compile(\"2014\")))\n"
   ],
   "id": "e7eab6fcb5200ad1",
   "outputs": [
    {
     "name": "stdout",
     "output_type": "stream",
     "text": [
      "First div\n",
      " <div class=\"tile\">\n",
      "<h4>Development</h4>\n",
      "     0.10.1 - July 2014<br/>\n",
      "</div>\n",
      "First div clss ['tile']\n",
      "First dfn text Quare attende, quaeso.\n",
      "Link text loripsum.net URL http://loripsum.net/\n",
      "Link text Poterat autem inpune; URL http://loripsum.net/\n",
      "Link text Is es profecto tu. URL http://loripsum.net/\n",
      "0 ['\\n', <h4>Development</h4>, '\\n     0.10.1 - July 2014', <br/>, '\\n']\n",
      "1 ['\\n', <h4>Official Release</h4>, '\\n     0.10.0 June 2014', <br/>, '\\n']\n",
      "2 ['\\n', <h4>Previous Release</h4>, '\\n     0.09.1 June 2013', <br/>, '\\n']\n",
      "Official Version 0.10.0 June 2014\n",
      "# elements with class 3\n",
      "# Tile classes 2\n",
      "# Divs with class containing tile 3\n",
      "Using CSS selector\n",
      " [<div class=\"notile\">\n",
      "<h4>Previous Release</h4>\n",
      "     0.09.1 June 2013<br/>\n",
      "</div>]\n",
      "Selecting ordered list list items\n",
      " [<li>Cur id non ita fit?</li>, <li>In qua si nihil est praeter rationem, sit in una virtute finis bonorum;</li>]\n",
      "Second list item in ordered list [<li>In qua si nihil est praeter rationem, sit in una virtute finis bonorum;</li>]\n",
      "Searching for text string ['\\n     0.10.1 - July 2014', '\\n     0.10.0 June 2014']\n"
     ]
    },
    {
     "name": "stderr",
     "output_type": "stream",
     "text": [
      "C:\\Users\\caleb\\AppData\\Local\\Temp\\ipykernel_8648\\2811205880.py:22: DeprecationWarning: The 'text' argument to find()-type methods is deprecated. Use 'string' instead.\n",
      "  print(\"Searching for text string\", soup.find_all(text=re.compile(\"2014\")))\n"
     ]
    }
   ],
   "execution_count": 39
  },
  {
   "metadata": {
    "ExecuteTime": {
     "end_time": "2024-10-26T21:07:49.166716Z",
     "start_time": "2024-10-26T21:07:49.165136Z"
    }
   },
   "cell_type": "code",
   "source": "",
   "id": "bcdb61af773d3a5b",
   "outputs": [],
   "execution_count": 39
  }
 ],
 "metadata": {
  "kernelspec": {
   "display_name": "Python 3",
   "language": "python",
   "name": "python3"
  },
  "language_info": {
   "codemirror_mode": {
    "name": "ipython",
    "version": 2
   },
   "file_extension": ".py",
   "mimetype": "text/x-python",
   "name": "python",
   "nbconvert_exporter": "python",
   "pygments_lexer": "ipython2",
   "version": "2.7.6"
  }
 },
 "nbformat": 4,
 "nbformat_minor": 5
}
